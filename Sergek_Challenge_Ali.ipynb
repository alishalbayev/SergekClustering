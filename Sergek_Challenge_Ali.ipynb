{
 "cells": [
  {
   "cell_type": "markdown",
   "metadata": {},
   "source": [
    "# AITU Project Challenge\n",
    "## Кластеризация данных от Сергек\n",
    "\n",
    "*Source: https://apc.astanait.edu.kz/sergek*"
   ]
  },
  {
   "cell_type": "markdown",
   "metadata": {},
   "source": [
    "## О ПРОЕКТЕ\n",
    "В данном датасете треки 1000 транспортных средств (ТС), которые катались по нашему городу в течении 1 недели ( с 7 по 13 декабря 2020) с обезличенными идентификаторами.\n",
    "\n",
    "Одна запись - это одна детекция ТС, GPS координаты являются координатами участка дороги, где была произведена детекция.\n",
    "\n",
    "Некоторые участки в какой-то момент времени могли не работать (потеря связи, отсутствие электропитания) или пропустить ТС (например в ракурсе камеры ТС было загорожено автобусом)\n",
    "\n",
    "**Задача - кластеризация данных:**\n",
    "\n",
    "1. Определить рейсовые автобусы **(3 балла)**\n",
    "\n",
    "2. Определить такси **(7 баллов)**\n",
    "\n",
    "3. Определить родителей, которые отвозят детей в среднюю школу **(10 баллов)**\n",
    "\n",
    "4. Дать свою кластеризацию всех данных с описанием логики и обоснованием **(10 баллов)**\n",
    "\n",
    "\n",
    "**Требования:**\n",
    "\n",
    "Формат сдачи - ipnyb файл либо Google Colab\n",
    "\n",
    "Количество этапов: 1\n",
    "\n",
    "Количество баллов за этап: максимально 30 баллов\n",
    "\n",
    "Награда: стажировка в Коркем телеком (Сергек)\n",
    "\n",
    "Дата сдачи: до 12-го февраля"
   ]
  },
  {
   "cell_type": "markdown",
   "metadata": {},
   "source": [
    "# Open tasks\n",
    "\n",
    "1. Read about three ML tasks, regression, classification and clustering. Understand their differences. Then focus on clustering. Be ready for any questions from me about clustering. Link for sklearn clustering documentation: https://scikit-learn.org/stable/modules/clustering.html\n",
    "\n",
    "2. Understand the data that you have. Look on the steps done below. Think how we can our data.\n",
    "\n",
    "3. Think how we can distinguish bus, taxi and parents from each other.\n",
    "\n",
    "4. Clarify: do we need to use an algorithm that clusters these cars or can we use data analysis for that?\n",
    "\n"
   ]
  },
  {
   "cell_type": "markdown",
   "metadata": {},
   "source": [
    "# Solution"
   ]
  },
  {
   "cell_type": "code",
   "execution_count": 1,
   "metadata": {},
   "outputs": [],
   "source": [
    "import pandas as pd\n",
    "import numpy as np\n",
    "import matplotlib.pyplot as plt\n",
    "import seaborn as sns\n",
    "import sklearn"
   ]
  },
  {
   "cell_type": "markdown",
   "metadata": {},
   "source": [
    "## 1. Data load"
   ]
  },
  {
   "cell_type": "code",
   "execution_count": 2,
   "metadata": {},
   "outputs": [
    {
     "data": {
      "text/html": [
       "<div>\n",
       "<style scoped>\n",
       "    .dataframe tbody tr th:only-of-type {\n",
       "        vertical-align: middle;\n",
       "    }\n",
       "\n",
       "    .dataframe tbody tr th {\n",
       "        vertical-align: top;\n",
       "    }\n",
       "\n",
       "    .dataframe thead th {\n",
       "        text-align: right;\n",
       "    }\n",
       "</style>\n",
       "<table border=\"1\" class=\"dataframe\">\n",
       "  <thead>\n",
       "    <tr style=\"text-align: right;\">\n",
       "      <th></th>\n",
       "      <th>guid</th>\n",
       "      <th>datetime</th>\n",
       "      <th>latitude</th>\n",
       "      <th>longitude</th>\n",
       "    </tr>\n",
       "  </thead>\n",
       "  <tbody>\n",
       "    <tr>\n",
       "      <th>0</th>\n",
       "      <td>712070869093788000</td>\n",
       "      <td>12/8/20 17:14</td>\n",
       "      <td>51.165747</td>\n",
       "      <td>71.453509</td>\n",
       "    </tr>\n",
       "    <tr>\n",
       "      <th>1</th>\n",
       "      <td>11686700327246500000</td>\n",
       "      <td>12/8/20 17:15</td>\n",
       "      <td>51.151115</td>\n",
       "      <td>71.426902</td>\n",
       "    </tr>\n",
       "    <tr>\n",
       "      <th>2</th>\n",
       "      <td>2105413917665240000</td>\n",
       "      <td>12/8/20 17:15</td>\n",
       "      <td>51.181148</td>\n",
       "      <td>71.404782</td>\n",
       "    </tr>\n",
       "    <tr>\n",
       "      <th>3</th>\n",
       "      <td>3462092866854250000</td>\n",
       "      <td>12/8/20 17:15</td>\n",
       "      <td>51.136498</td>\n",
       "      <td>71.415772</td>\n",
       "    </tr>\n",
       "    <tr>\n",
       "      <th>4</th>\n",
       "      <td>7700733881961110000</td>\n",
       "      <td>12/8/20 17:15</td>\n",
       "      <td>51.143693</td>\n",
       "      <td>71.411055</td>\n",
       "    </tr>\n",
       "    <tr>\n",
       "      <th>...</th>\n",
       "      <td>...</td>\n",
       "      <td>...</td>\n",
       "      <td>...</td>\n",
       "      <td>...</td>\n",
       "    </tr>\n",
       "    <tr>\n",
       "      <th>387017</th>\n",
       "      <td>9642416086154050000</td>\n",
       "      <td>12/13/20 11:01</td>\n",
       "      <td>51.176601</td>\n",
       "      <td>71.418422</td>\n",
       "    </tr>\n",
       "    <tr>\n",
       "      <th>387018</th>\n",
       "      <td>2185211928349050000</td>\n",
       "      <td>12/13/20 11:01</td>\n",
       "      <td>51.129236</td>\n",
       "      <td>71.409150</td>\n",
       "    </tr>\n",
       "    <tr>\n",
       "      <th>387019</th>\n",
       "      <td>403674413556996000</td>\n",
       "      <td>12/13/20 11:02</td>\n",
       "      <td>51.117594</td>\n",
       "      <td>71.401256</td>\n",
       "    </tr>\n",
       "    <tr>\n",
       "      <th>387020</th>\n",
       "      <td>11277932757697900000</td>\n",
       "      <td>12/13/20 11:02</td>\n",
       "      <td>51.142655</td>\n",
       "      <td>71.487506</td>\n",
       "    </tr>\n",
       "    <tr>\n",
       "      <th>387021</th>\n",
       "      <td>11277932757697900000</td>\n",
       "      <td>12/13/20 11:02</td>\n",
       "      <td>51.142655</td>\n",
       "      <td>71.487506</td>\n",
       "    </tr>\n",
       "  </tbody>\n",
       "</table>\n",
       "<p>387022 rows × 4 columns</p>\n",
       "</div>"
      ],
      "text/plain": [
       "                        guid        datetime   latitude  longitude\n",
       "0         712070869093788000   12/8/20 17:14  51.165747  71.453509\n",
       "1       11686700327246500000   12/8/20 17:15  51.151115  71.426902\n",
       "2        2105413917665240000   12/8/20 17:15  51.181148  71.404782\n",
       "3        3462092866854250000   12/8/20 17:15  51.136498  71.415772\n",
       "4        7700733881961110000   12/8/20 17:15  51.143693  71.411055\n",
       "...                      ...             ...        ...        ...\n",
       "387017   9642416086154050000  12/13/20 11:01  51.176601  71.418422\n",
       "387018   2185211928349050000  12/13/20 11:01  51.129236  71.409150\n",
       "387019    403674413556996000  12/13/20 11:02  51.117594  71.401256\n",
       "387020  11277932757697900000  12/13/20 11:02  51.142655  71.487506\n",
       "387021  11277932757697900000  12/13/20 11:02  51.142655  71.487506\n",
       "\n",
       "[387022 rows x 4 columns]"
      ]
     },
     "execution_count": 2,
     "metadata": {},
     "output_type": "execute_result"
    }
   ],
   "source": [
    "df_0 = pd.read_csv('data_sergek.csv')\n",
    "df_0"
   ]
  },
  {
   "cell_type": "code",
   "execution_count": 3,
   "metadata": {},
   "outputs": [
    {
     "data": {
      "text/plain": [
       "(387022, 4)"
      ]
     },
     "execution_count": 3,
     "metadata": {},
     "output_type": "execute_result"
    }
   ],
   "source": [
    "df_0.shape"
   ]
  },
  {
   "cell_type": "code",
   "execution_count": 4,
   "metadata": {},
   "outputs": [
    {
     "name": "stdout",
     "output_type": "stream",
     "text": [
      "<class 'pandas.core.frame.DataFrame'>\n",
      "RangeIndex: 387022 entries, 0 to 387021\n",
      "Data columns (total 4 columns):\n",
      " #   Column     Non-Null Count   Dtype  \n",
      "---  ------     --------------   -----  \n",
      " 0   guid       387022 non-null  uint64 \n",
      " 1   datetime   387022 non-null  object \n",
      " 2   latitude   387022 non-null  float64\n",
      " 3   longitude  387022 non-null  float64\n",
      "dtypes: float64(2), object(1), uint64(1)\n",
      "memory usage: 11.8+ MB\n"
     ]
    }
   ],
   "source": [
    "# No missing data\n",
    "df_0.info()"
   ]
  },
  {
   "cell_type": "code",
   "execution_count": 5,
   "metadata": {},
   "outputs": [
    {
     "data": {
      "text/plain": [
       "1000"
      ]
     },
     "execution_count": 5,
     "metadata": {},
     "output_type": "execute_result"
    }
   ],
   "source": [
    "# We have 1000 unique guid, i.e. 1000 cars in our dataset\n",
    "len(df_0.guid.unique())"
   ]
  },
  {
   "cell_type": "code",
   "execution_count": 6,
   "metadata": {},
   "outputs": [
    {
     "data": {
      "text/html": [
       "<div>\n",
       "<style scoped>\n",
       "    .dataframe tbody tr th:only-of-type {\n",
       "        vertical-align: middle;\n",
       "    }\n",
       "\n",
       "    .dataframe tbody tr th {\n",
       "        vertical-align: top;\n",
       "    }\n",
       "\n",
       "    .dataframe thead th {\n",
       "        text-align: right;\n",
       "    }\n",
       "</style>\n",
       "<table border=\"1\" class=\"dataframe\">\n",
       "  <thead>\n",
       "    <tr style=\"text-align: right;\">\n",
       "      <th></th>\n",
       "      <th>latitude</th>\n",
       "      <th>longitude</th>\n",
       "    </tr>\n",
       "  </thead>\n",
       "  <tbody>\n",
       "    <tr>\n",
       "      <th>count</th>\n",
       "      <td>387022.000000</td>\n",
       "      <td>387022.000000</td>\n",
       "    </tr>\n",
       "    <tr>\n",
       "      <th>mean</th>\n",
       "      <td>51.146520</td>\n",
       "      <td>71.435415</td>\n",
       "    </tr>\n",
       "    <tr>\n",
       "      <th>std</th>\n",
       "      <td>0.026620</td>\n",
       "      <td>0.038694</td>\n",
       "    </tr>\n",
       "    <tr>\n",
       "      <th>min</th>\n",
       "      <td>51.030354</td>\n",
       "      <td>71.252515</td>\n",
       "    </tr>\n",
       "    <tr>\n",
       "      <th>25%</th>\n",
       "      <td>51.129842</td>\n",
       "      <td>71.410049</td>\n",
       "    </tr>\n",
       "    <tr>\n",
       "      <th>50%</th>\n",
       "      <td>51.148984</td>\n",
       "      <td>71.428700</td>\n",
       "    </tr>\n",
       "    <tr>\n",
       "      <th>75%</th>\n",
       "      <td>51.166068</td>\n",
       "      <td>71.463849</td>\n",
       "    </tr>\n",
       "    <tr>\n",
       "      <th>max</th>\n",
       "      <td>51.212532</td>\n",
       "      <td>71.648309</td>\n",
       "    </tr>\n",
       "  </tbody>\n",
       "</table>\n",
       "</div>"
      ],
      "text/plain": [
       "            latitude      longitude\n",
       "count  387022.000000  387022.000000\n",
       "mean       51.146520      71.435415\n",
       "std         0.026620       0.038694\n",
       "min        51.030354      71.252515\n",
       "25%        51.129842      71.410049\n",
       "50%        51.148984      71.428700\n",
       "75%        51.166068      71.463849\n",
       "max        51.212532      71.648309"
      ]
     },
     "execution_count": 6,
     "metadata": {},
     "output_type": "execute_result"
    }
   ],
   "source": [
    "# Observe latitude and longitude\n",
    "df_0[['latitude', 'longitude']].describe()"
   ]
  },
  {
   "cell_type": "code",
   "execution_count": 7,
   "metadata": {},
   "outputs": [
    {
     "data": {
      "text/html": [
       "<div>\n",
       "<style scoped>\n",
       "    .dataframe tbody tr th:only-of-type {\n",
       "        vertical-align: middle;\n",
       "    }\n",
       "\n",
       "    .dataframe tbody tr th {\n",
       "        vertical-align: top;\n",
       "    }\n",
       "\n",
       "    .dataframe thead th {\n",
       "        text-align: right;\n",
       "    }\n",
       "</style>\n",
       "<table border=\"1\" class=\"dataframe\">\n",
       "  <thead>\n",
       "    <tr style=\"text-align: right;\">\n",
       "      <th></th>\n",
       "      <th>guid</th>\n",
       "      <th>datetime</th>\n",
       "      <th>latitude</th>\n",
       "      <th>longitude</th>\n",
       "      <th>coordinates</th>\n",
       "    </tr>\n",
       "  </thead>\n",
       "  <tbody>\n",
       "    <tr>\n",
       "      <th>0</th>\n",
       "      <td>712070869093788000</td>\n",
       "      <td>12/8/20 17:14</td>\n",
       "      <td>51.165747</td>\n",
       "      <td>71.453509</td>\n",
       "      <td>51.16574734 - 71.45350872</td>\n",
       "    </tr>\n",
       "    <tr>\n",
       "      <th>1</th>\n",
       "      <td>11686700327246500000</td>\n",
       "      <td>12/8/20 17:15</td>\n",
       "      <td>51.151115</td>\n",
       "      <td>71.426902</td>\n",
       "      <td>51.15111466 - 71.42690215</td>\n",
       "    </tr>\n",
       "    <tr>\n",
       "      <th>2</th>\n",
       "      <td>2105413917665240000</td>\n",
       "      <td>12/8/20 17:15</td>\n",
       "      <td>51.181148</td>\n",
       "      <td>71.404782</td>\n",
       "      <td>51.1811477 - 71.40478196</td>\n",
       "    </tr>\n",
       "    <tr>\n",
       "      <th>3</th>\n",
       "      <td>3462092866854250000</td>\n",
       "      <td>12/8/20 17:15</td>\n",
       "      <td>51.136498</td>\n",
       "      <td>71.415772</td>\n",
       "      <td>51.13649764 - 71.41577178</td>\n",
       "    </tr>\n",
       "    <tr>\n",
       "      <th>4</th>\n",
       "      <td>7700733881961110000</td>\n",
       "      <td>12/8/20 17:15</td>\n",
       "      <td>51.143693</td>\n",
       "      <td>71.411055</td>\n",
       "      <td>51.14369334 - 71.41105484</td>\n",
       "    </tr>\n",
       "  </tbody>\n",
       "</table>\n",
       "</div>"
      ],
      "text/plain": [
       "                   guid       datetime   latitude  longitude  \\\n",
       "0    712070869093788000  12/8/20 17:14  51.165747  71.453509   \n",
       "1  11686700327246500000  12/8/20 17:15  51.151115  71.426902   \n",
       "2   2105413917665240000  12/8/20 17:15  51.181148  71.404782   \n",
       "3   3462092866854250000  12/8/20 17:15  51.136498  71.415772   \n",
       "4   7700733881961110000  12/8/20 17:15  51.143693  71.411055   \n",
       "\n",
       "                 coordinates  \n",
       "0  51.16574734 - 71.45350872  \n",
       "1  51.15111466 - 71.42690215  \n",
       "2   51.1811477 - 71.40478196  \n",
       "3  51.13649764 - 71.41577178  \n",
       "4  51.14369334 - 71.41105484  "
      ]
     },
     "execution_count": 7,
     "metadata": {},
     "output_type": "execute_result"
    }
   ],
   "source": [
    "df_0['coordinates'] = df_0['latitude'].astype(str) + ' - ' + df_0['longitude'].astype(str)\n",
    "df_0.head()"
   ]
  },
  {
   "cell_type": "code",
   "execution_count": 8,
   "metadata": {},
   "outputs": [
    {
     "name": "stdout",
     "output_type": "stream",
     "text": [
      "645\n",
      "645\n",
      "645\n"
     ]
    }
   ],
   "source": [
    "# Based on the unique values of latitude and longitude we can say that there are 645 cameras in the city\n",
    "# To make sure that we also created new columns coordinates (location of each camera), which tells us that\n",
    "# there are indeed 645 unique coordinates of cameras\n",
    "print(len(df_0.latitude.unique()))\n",
    "print(len(df_0.longitude.unique()))\n",
    "print(len(df_0.coordinates.unique()))"
   ]
  },
  {
   "cell_type": "markdown",
   "metadata": {},
   "source": [
    "Our data for lattitude and longitude is centered around 51 and 71, respectively. This is actually coordinates for Nur-Sultan. Check: https://en.wikipedia.org/wiki/Nur-Sultan. Hence, we will need to find a way to zoom into Nur-Sultan only and focus on these small area. "
   ]
  },
  {
   "cell_type": "code",
   "execution_count": null,
   "metadata": {},
   "outputs": [],
   "source": [
    "# Create new columns based on datetime column\n",
    "df_0['datetime'] =  pd.to_datetime(df_0['datetime']) # convert to datetime format \n",
    "df_0['date'] = df_0['datetime'].dt.date              # get column only for date\n",
    "df_0['time'] = df_0['datetime'].dt.strftime('%H:%M') # get column only for time\n",
    "df_0['weekday'] = df_0['datetime'].dt.day_name()      # get column only for weekday\n",
    "#df_0['year'] = df_0['datetime'].dt.year              # get column only for year\n",
    "#df_0['month'] = df_0['datetime'].dt.month            # get column only for month\n",
    "#df_0['day'] = df_0['datetime'].dt.day                # get column only for day\n",
    "df_0['hour'] = df_0['datetime'].dt.hour              # get column only for hour\n",
    "#df_0['minute'] = df_0['datetime'].dt.minute          # get column only for minute\n",
    "df_0.head()"
   ]
  },
  {
   "cell_type": "code",
   "execution_count": null,
   "metadata": {},
   "outputs": [],
   "source": [
    "import folium\n",
    "from folium import plugins\n",
    "import ipywidgets\n",
    "import geocoder\n",
    "import geopy\n",
    "from vega_datasets import data as vds"
   ]
  },
  {
   "cell_type": "code",
   "execution_count": null,
   "metadata": {},
   "outputs": [],
   "source": [
    "# Plot map of all cameras with activated cameras for a given car on a given day\n",
    "sns.set_style('whitegrid')\n",
    "plt.figure(figsize=(20,15))\n",
    "\n",
    "# Define the borders for lattitude and longitude (i.e. Nur-Sultan city)\n",
    "plt.xlim(min(df_0.latitude) - 0.01, max(df_0.latitude) + 0.01)\n",
    "plt.ylim(min(df_0.longitude) - 0.01,max(df_0.longitude) + 0.01)\n",
    "\n",
    "# Plot all the cameras on the map\n",
    "sns.scatterplot(x='latitude', y='longitude', data=df_0, \n",
    "                marker='o', linewidth=0, color='lightgrey', s=15)"
   ]
  },
  {
   "cell_type": "code",
   "execution_count": null,
   "metadata": {},
   "outputs": [],
   "source": [
    "# Create dataframe with unique coordinates of cameras\n",
    "df_sergeks = df_0[['coordinates', 'latitude', 'longitude']]\n",
    "df_sergeks.drop_duplicates(inplace=True)\n",
    "df_sergeks"
   ]
  },
  {
   "cell_type": "code",
   "execution_count": null,
   "metadata": {},
   "outputs": [],
   "source": [
    "df_1 = df_0[['weekday', 'guid', 'coordinates', 'time']]\\\n",
    "            .groupby(['weekday', 'guid', 'coordinates'], as_index=False).count()\n",
    "\n",
    "df_1 = df_1.merge(df_sergeks, on='coordinates', how='left')\n",
    "\n",
    "df_1"
   ]
  },
  {
   "cell_type": "code",
   "execution_count": null,
   "metadata": {},
   "outputs": [],
   "source": [
    "# Plot map of all cameras with activated cameras for a given car\n",
    "sns.set_style('whitegrid')\n",
    "plt.figure(figsize=(20,15))\n",
    "\n",
    "# Define the borders for lattitude and longitude (i.e. Nur-Sultan city)\n",
    "plt.ylim(min(df_0.latitude) - 0.01, max(df_0.latitude) + 0.01)\n",
    "plt.xlim(min(df_0.longitude) - 0.01,max(df_0.longitude) + 0.01)\n",
    "\n",
    "# Plot all the cameras on the map\n",
    "sns.scatterplot(x='longitude', y='latitude', data=df_0, \n",
    "                marker='o', linewidth=0, color='lightgrey', s=15)\n",
    "\n",
    "#Plot the cameras on which car appeared: specify day and guid\n",
    "sns.scatterplot(x='longitude', y='latitude', data=df_1[(df_1.guid==4932614453064340) & (df_1.weekday=='Friday')],\n",
    "                hue='weekday', palette='tab10', \n",
    "                marker='s', linewidth=0, s=50);"
   ]
  },
  {
   "cell_type": "code",
   "execution_count": null,
   "metadata": {},
   "outputs": [],
   "source": [
    "check = df_1[(df_1['guid'] == 4932614453064340) & (df_1['weekday'] == 'Friday')]\n",
    "\n",
    "sergek = folium.Map(location=[51.1605, 71.4104], zoom_start=11.5)\n",
    "check.apply(lambda row: folium.Marker(location=[row['latitude'], row['longitude']],\n",
    "                                    popup=row['weekday']).add_to(sergek), axis=1)\n",
    "\n",
    "sergek"
   ]
  },
  {
   "cell_type": "code",
   "execution_count": null,
   "metadata": {},
   "outputs": [],
   "source": [
    "# Plot map of all cameras with activated cameras for a given car\n",
    "sns.set_style('whitegrid')\n",
    "plt.figure(figsize=(20,15))\n",
    "\n",
    "# Define the borders for lattitude and longitude (i.e. Nur-Sultan city)\n",
    "plt.ylim(min(df_0.latitude) - 0.01, max(df_0.latitude) + 0.01)\n",
    "plt.xlim(min(df_0.longitude) - 0.01,max(df_0.longitude) + 0.01)\n",
    "\n",
    "# Plot all the cameras on the map\n",
    "sns.scatterplot(x='longitude', y='latitude', data=df_0, \n",
    "                marker='o', linewidth=0, color='lightgrey', s=15)\n",
    "\n",
    "#Plot the cameras on which car appeared: specify day and guid\n",
    "sns.scatterplot(x='longitude', y='latitude', data=df_1[df_1.guid==18445985492879400000],\n",
    "                hue='weekday', palette='tab10', \n",
    "                marker='s', linewidth=0, s=50);"
   ]
  },
  {
   "cell_type": "code",
   "execution_count": null,
   "metadata": {},
   "outputs": [],
   "source": [
    "check = df_1[df_1['guid'] == 18445985492879400000]\n",
    "\n",
    "sergek = folium.Map(location=[51.1605, 71.4104], zoom_start=11.5)\n",
    "check.apply(lambda row: folium.Marker(location=[row['latitude'], row['longitude']],\n",
    "                                    popup=row['weekday']).add_to(sergek), axis=1)\n",
    "\n",
    "sergek"
   ]
  },
  {
   "cell_type": "markdown",
   "metadata": {},
   "source": [
    "It is not really helpful to use datetime column in it's original form. But, we can split it into separate peaces of data: date, time, weekday, year, month, day, hour and minute. However, columns year and month are not really usefull, because our data only for 7-13 December of 2020, i.e. only one month and one year."
   ]
  },
  {
   "cell_type": "markdown",
   "metadata": {},
   "source": [
    "## 2. Analysis\n",
    "\n",
    "Our task is to identify which guids correspond to buses, cars and parent drivers. We should think about the patterns of driving of each category. Below are some ideas:\n",
    "1. Bus drivers are the simplest, because they have certain route (маршрут). To find that, you can look on a car's movements, how it is recorded on the camera.\n",
    "2. Taxi drivers are more difficult, because they can be absolutely chaotic in their driving: no certain path, no time periodicity.\n",
    "3. Parent drivers is more difficult than buses, but easier than drivers. We can expect that they will have fixed route (i.e. the same camera coordinates), and some time constraints (с дома до школы/работы утром и вечером с работы/дома до школы). \n",
    "\n",
    "You can brainstorm yourself on these patterns. But still, I want to clarify, if we need to build a ML model for that or just use analysis."
   ]
  },
  {
   "cell_type": "code",
   "execution_count": null,
   "metadata": {},
   "outputs": [],
   "source": [
    "df_0.head()"
   ]
  },
  {
   "cell_type": "code",
   "execution_count": null,
   "metadata": {},
   "outputs": [],
   "source": [
    "# Create dataframe with features of the cars. Start with unique guids.\n",
    "df_features = df_0[['guid']]\n",
    "df_features.drop_duplicates(inplace=True)\n",
    "df_features.head()"
   ]
  },
  {
   "cell_type": "code",
   "execution_count": null,
   "metadata": {},
   "outputs": [],
   "source": [
    "# So we have 1000 unique cars\n",
    "df_features.shape"
   ]
  },
  {
   "cell_type": "markdown",
   "metadata": {},
   "source": [
    "#### Feature 1\n",
    "Total number of fixations in one week."
   ]
  },
  {
   "cell_type": "code",
   "execution_count": null,
   "metadata": {},
   "outputs": [],
   "source": [
    "df_feat_1 = df_0[['guid', 'datetime']].groupby('guid', as_index=False).count()\n",
    "df_feat_1.rename(columns={\"datetime\": \"Total_nb_fixations\"}, inplace=True)\n",
    "df_features = df_features.merge(df_feat_1, on='guid', how='left')\n",
    "df_features.head()"
   ]
  },
  {
   "cell_type": "markdown",
   "metadata": {},
   "source": [
    "#### Feature 2\n",
    "Average number of fixations in per day."
   ]
  },
  {
   "cell_type": "code",
   "execution_count": null,
   "metadata": {},
   "outputs": [],
   "source": [
    "df_feat_2 = df_0[['guid', 'weekday', 'datetime']].groupby(['guid','weekday'], as_index=False).count() \n",
    "df_feat_2_ = df_feat_2.groupby('guid',  as_index=False).mean()\n",
    "df_feat_2_.rename(columns={\"datetime\": \"Avg_nb_fixations_per_day\"}, inplace=True)\n",
    "df_features = df_features.merge(df_feat_2_, on='guid', how='left')\n",
    "df_features.head()"
   ]
  },
  {
   "cell_type": "markdown",
   "metadata": {},
   "source": [
    "#### Feature 3\n",
    "Number of active days in a week."
   ]
  },
  {
   "cell_type": "code",
   "execution_count": null,
   "metadata": {},
   "outputs": [],
   "source": [
    "df_feat_3 = df_0[['guid', 'weekday']]\n",
    "df_feat_3.drop_duplicates(inplace=True)\n",
    "df_feat_3_ = df_feat_3.groupby('guid',  as_index=False).count()\n",
    "df_feat_3_.head()\n",
    "df_feat_3_.rename(columns={\"weekday\": \"Nb_active_days\"}, inplace=True)\n",
    "df_features = df_features.merge(df_feat_3_, on='guid', how='left')\n",
    "df_features.head()"
   ]
  },
  {
   "cell_type": "markdown",
   "metadata": {},
   "source": [
    "#### Feature 4\n",
    "Number of unique sergeks detected. "
   ]
  },
  {
   "cell_type": "code",
   "execution_count": null,
   "metadata": {},
   "outputs": [],
   "source": [
    "df_feat_4 = df_0[['guid', 'coordinates']]\n",
    "df_feat_4.drop_duplicates(inplace=True)\n",
    "df_feat_4_ = df_feat_4.groupby('guid',  as_index=False).count()\n",
    "df_feat_4_.head()\n",
    "df_feat_4_.rename(columns={\"coordinates\": \"Nb_sergeks\"}, inplace=True)\n",
    "df_features = df_features.merge(df_feat_4_, on='guid', how='left')\n",
    "df_features.head()"
   ]
  },
  {
   "cell_type": "markdown",
   "metadata": {},
   "source": [
    "#### Feature 5\n",
    "Average number of unique sergeks per day"
   ]
  },
  {
   "cell_type": "code",
   "execution_count": null,
   "metadata": {},
   "outputs": [],
   "source": [
    "df_feat_5 = df_0[['guid', 'weekday', 'coordinates']]\n",
    "df_feat_5.drop_duplicates(inplace=True)\n",
    "df_feat_5_ = df_feat_5.groupby(['guid', 'weekday'], as_index=False).count()\n",
    "df_feat_5_ = df_feat_5_.groupby(['guid'], as_index=False).mean()\n",
    "df_feat_5_.rename(columns = {'coordinates' : 'Avg_nb_unique_sergeks_per_day'}, inplace=True)\n",
    "df_features = df_features.merge(df_feat_5_, on='guid', how='left')\n",
    "df_features.head()"
   ]
  },
  {
   "cell_type": "markdown",
   "metadata": {},
   "source": [
    "#### Feature 6\n",
    "Average number of working hours per day"
   ]
  },
  {
   "cell_type": "code",
   "execution_count": null,
   "metadata": {},
   "outputs": [],
   "source": [
    "df_feat_6 = df_0[['guid', 'weekday', 'hour']]\n",
    "df_feat_6.drop_duplicates(inplace = True)\n",
    "df_feat_6_ = df_feat_6.groupby(['guid', 'weekday'], as_index=False).count()\n",
    "df_feat_6_ = df_feat_6_.groupby(['guid'], as_index=False).mean()\n",
    "df_feat_6_.rename(columns = {'hour':'Avg_nb_hours_per_day'}, inplace=True)\n",
    "df_features = df_features.merge(df_feat_6_, on='guid', how='left') \n",
    "df_features.head()"
   ]
  },
  {
   "cell_type": "markdown",
   "metadata": {},
   "source": [
    "#### Feature 7\n",
    "Average the most latest hour per day"
   ]
  },
  {
   "cell_type": "code",
   "execution_count": null,
   "metadata": {},
   "outputs": [],
   "source": [
    "df_feat_7 = df_0[['guid', 'weekday', 'hour']]\n",
    "df_feat_7.drop_duplicates(inplace=True)\n",
    "df_feat_7_ = df_feat_7.groupby(['guid', 'weekday'], as_index=False).max()\n",
    "df_feat_7_ = df_feat_7_.groupby(['guid'], as_index=False).mean()\n",
    "df_feat_7_.rename(columns={'hour' : 'Avg_the_most_latest_hour_per_day'}, inplace=True)\n",
    "df_features = df_features.merge(df_feat_7_, on='guid', how='left')"
   ]
  },
  {
   "cell_type": "markdown",
   "metadata": {},
   "source": [
    "#### Feature 8"
   ]
  },
  {
   "cell_type": "code",
   "execution_count": null,
   "metadata": {},
   "outputs": [],
   "source": [
    "df_feat_8 = df_0[['guid', 'weekday', 'hour']]\n",
    "df_feat_8.drop_duplicates(inplace=True)\n",
    "df_feat_8_ = df_feat_8.groupby(['guid', 'weekday'], as_index=False).min()\n",
    "df_feat_8_ = df_feat_8_.groupby(['guid'], as_index=False).mean()\n",
    "df_feat_8_.rename(columns={'hour' : 'Avg_the_most_earliest_hour_per_day'}, inplace=True)\n",
    "df_features = df_features.merge(df_feat_8_, on='guid', how='left')"
   ]
  },
  {
   "cell_type": "markdown",
   "metadata": {},
   "source": [
    "## Observe relationship"
   ]
  },
  {
   "cell_type": "markdown",
   "metadata": {},
   "source": [
    "## Example: Cluster with k-means"
   ]
  },
  {
   "cell_type": "code",
   "execution_count": null,
   "metadata": {},
   "outputs": [],
   "source": [
    "from sklearn.cluster import KMeans"
   ]
  },
  {
   "cell_type": "code",
   "execution_count": null,
   "metadata": {},
   "outputs": [],
   "source": [
    "model_kmeans = KMeans(init=\"random\", n_clusters=3, random_state=42)\n",
    "model_kmeans.fit(df_features[['Nb_sergeks', 'Avg_nb_fixations_per_day']])\n",
    "model_kmeans.cluster_centers_\n",
    "df_features['Cluster'] = model_kmeans.labels_\n",
    "\n",
    "sns.set_style('whitegrid')\n",
    "plt.figure(figsize=(10,10))\n",
    "\n",
    "sns.scatterplot(x='Nb_sergeks', y='Avg_nb_fixations_per_day', data=df_features, \n",
    "                hue='Cluster', marker='o', palette='tab10', linewidth=0, s=15);"
   ]
  },
  {
   "cell_type": "code",
   "execution_count": null,
   "metadata": {},
   "outputs": [],
   "source": [
    "model_kmeans1 = KMeans(init=\"random\", n_clusters=3, random_state=42)\n",
    "model_kmeans1.fit(df_features[['Nb_sergeks', 'Total_nb_fixations']])\n",
    "model_kmeans1.cluster_centers_\n",
    "df_features['Cluster1'] = model_kmeans1.labels_\n",
    "df_features.head()\n",
    "\n",
    "sns.set_style('whitegrid')\n",
    "plt.figure(figsize=(10,10))\n",
    "\n",
    "sns.scatterplot(x='Nb_sergeks', y='Total_nb_fixations', data=df_features, \n",
    "                hue='Cluster1', marker='o', palette='tab10', linewidth=0, s=15);"
   ]
  },
  {
   "cell_type": "code",
   "execution_count": null,
   "metadata": {},
   "outputs": [],
   "source": [
    "model_kmeans2 = KMeans(init=\"random\", n_clusters=3, random_state=42)\n",
    "model_kmeans2.fit(df_features[['Nb_active_days', 'Total_nb_fixations']])\n",
    "model_kmeans2.cluster_centers_\n",
    "df_features['Cluster2'] = model_kmeans2.labels_\n",
    "\n",
    "sns.set_style('whitegrid')\n",
    "plt.figure(figsize=(10,10))\n",
    "\n",
    "sns.scatterplot(x='Nb_active_days', y='Total_nb_fixations', data=df_features, \n",
    "                hue='Cluster2', marker='o', palette='tab10', linewidth=0, s=15);"
   ]
  },
  {
   "cell_type": "code",
   "execution_count": null,
   "metadata": {},
   "outputs": [],
   "source": [
    "model_kmeans3 = KMeans(init=\"random\", n_clusters=3, random_state=42)\n",
    "model_kmeans3.fit(df_features[['Nb_sergeks', 'Avg_nb_unique_sergeks_per_day']])\n",
    "model_kmeans3.cluster_centers_\n",
    "df_features['Cluster3'] = model_kmeans3.labels_\n",
    "df_features.head()\n",
    "\n",
    "sns.set_style('whitegrid')\n",
    "plt.figure(figsize=(10,10))\n",
    "\n",
    "sns.scatterplot(x='Nb_sergeks', y='Avg_nb_unique_sergeks_per_day', data=df_features, \n",
    "                hue='Cluster3', marker='o', palette='tab10', linewidth=0, s=15);"
   ]
  },
  {
   "cell_type": "code",
   "execution_count": null,
   "metadata": {},
   "outputs": [],
   "source": [
    "model_kmeans4 = KMeans(init=\"random\", n_clusters=3, random_state=42)\n",
    "model_kmeans4.fit(df_features[['Nb_active_days', 'Avg_nb_unique_sergeks_per_day']])\n",
    "model_kmeans4.cluster_centers_\n",
    "df_features['Cluster4'] = model_kmeans4.labels_\n",
    "\n",
    "sns.set_style('whitegrid')\n",
    "plt.figure(figsize=(10,10))\n",
    "\n",
    "sns.scatterplot(x='Nb_active_days', y='Avg_nb_unique_sergeks_per_day', data=df_features, \n",
    "                hue='Cluster4', marker='o', palette='tab10', linewidth=0, s=15);"
   ]
  },
  {
   "cell_type": "code",
   "execution_count": null,
   "metadata": {},
   "outputs": [],
   "source": [
    "model_kmeans5 = KMeans(init=\"random\", n_clusters=3, random_state=42)\n",
    "model_kmeans5.fit(df_features[['Avg_nb_hours_per_day', 'Avg_nb_unique_sergeks_per_day']])\n",
    "model_kmeans5.cluster_centers_\n",
    "df_features['Cluster5'] = model_kmeans5.labels_\n",
    "\n",
    "sns.set_style('whitegrid')\n",
    "plt.figure(figsize=(10,10))\n",
    "\n",
    "sns.scatterplot(x='Avg_nb_hours_per_day', y='Avg_nb_unique_sergeks_per_day', data=df_features, \n",
    "                hue='Cluster5', marker='o', palette='tab10', linewidth=0, s=15);"
   ]
  },
  {
   "cell_type": "code",
   "execution_count": null,
   "metadata": {},
   "outputs": [],
   "source": [
    "model_kmeans6 = KMeans(init=\"random\", n_clusters=3, random_state=42)\n",
    "model_kmeans6.fit(df_features[['Avg_the_most_latest_hour_per_day', 'Avg_the_most_earliest_hour_per_day']])\n",
    "model_kmeans6.cluster_centers_\n",
    "df_features['Cluster6'] = model_kmeans6.labels_\n",
    "\n",
    "sns.set_style('whitegrid')\n",
    "plt.figure(figsize=(10,10))\n",
    "\n",
    "sns.scatterplot(x='Avg_the_most_latest_hour_per_day', y='Avg_the_most_earliest_hour_per_day', data=df_features, \n",
    "                hue='Cluster6', marker='o', palette='tab10', linewidth=0, s=15);"
   ]
  },
  {
   "cell_type": "code",
   "execution_count": null,
   "metadata": {},
   "outputs": [],
   "source": [
    "model_kmeans7 = KMeans(init=\"random\", n_clusters=3, random_state=42)\n",
    "model_kmeans7.fit(df_features[['Nb_sergeks', 'Avg_nb_hours_per_day']])\n",
    "model_kmeans7.cluster_centers_\n",
    "df_features['Cluster7'] = model_kmeans7.labels_\n",
    "\n",
    "sns.set_style('whitegrid')\n",
    "plt.figure(figsize=(10,10))\n",
    "\n",
    "sns.scatterplot(x='Nb_sergeks', y='Avg_nb_hours_per_day', data=df_features, \n",
    "                hue='Cluster7', marker='o', palette='tab10', linewidth=0, s=15);"
   ]
  },
  {
   "cell_type": "code",
   "execution_count": null,
   "metadata": {},
   "outputs": [],
   "source": [
    "model_kmeans8 = KMeans(init=\"random\", n_clusters=3, random_state=42)\n",
    "model_kmeans8.fit(df_features[['Nb_sergeks', 'Avg_nb_hours_per_day']])\n",
    "model_kmeans8.cluster_centers_\n",
    "df_features['Cluster8'] = model_kmeans8.labels_\n",
    "\n",
    "sns.set_style('whitegrid')\n",
    "plt.figure(figsize=(10,10))\n",
    "\n",
    "sns.scatterplot(x='Avg_nb_hours_per_day', y='Avg_the_most_earliest_hour_per_day', data=df_features, \n",
    "                hue='Cluster8', marker='o', palette='tab10', linewidth=0, s=15);"
   ]
  },
  {
   "cell_type": "code",
   "execution_count": null,
   "metadata": {},
   "outputs": [],
   "source": [
    "# Avg_the_most_latest_hour_per_Day and Avg_the_most_earlies_hour_per_day\n",
    "df_features['Cluster6'].replace({0: \"parent\", 1: \"taxi driver\", 2:\"bus driver\"}, inplace=True)"
   ]
  },
  {
   "cell_type": "code",
   "execution_count": null,
   "metadata": {},
   "outputs": [],
   "source": [
    "# Avg_ng_hours_per_day and Avg_nb_unique_sergeks_per_day\n",
    "df_features['Cluster5'].replace({0: \"taxi driver\", 1: \"bus driver\", 2:\"parent\"}, inplace=True)"
   ]
  },
  {
   "cell_type": "code",
   "execution_count": null,
   "metadata": {},
   "outputs": [],
   "source": [
    "# Nb_Sergeks and Avg_nb_fixations_per_day\n",
    "df_features['Cluster'].replace({0: \"bus driver\", 1: \"parent\", 2:\"taxi driver\"}, inplace=True)"
   ]
  },
  {
   "cell_type": "code",
   "execution_count": null,
   "metadata": {},
   "outputs": [],
   "source": [
    "# Nb_Sergeks and Avg_nb_hours_per_day\n",
    "df_features['Cluster7'].replace({0: \"parents\", 1: \"taxi driver\", 2:\"parent\"}, inplace=True)"
   ]
  },
  {
   "cell_type": "code",
   "execution_count": null,
   "metadata": {},
   "outputs": [],
   "source": [
    "df_features"
   ]
  },
  {
   "cell_type": "code",
   "execution_count": null,
   "metadata": {},
   "outputs": [],
   "source": [
    "df_features = df_features.drop('Cluster7', axis = 1)"
   ]
  },
  {
   "cell_type": "markdown",
   "metadata": {},
   "source": [
    "## Conclusion\n",
    "In general, we had 8 clustering models by experimenting with different variables. On 6th Clustering Model, we tried with average the earliest and average the most latest hour. I think this correlation of variables is the best one. Below I am trying to explain this.\n",
    "- taxi drivers should have the largest number of unique sergeks, because they go \"randomly\" around the city, buses have a little less, and parents have the smallest number of sergeks.\n",
    "- parents have the least number of hours on the road, taxi drivers by a large margin should have more than their parents, but perhaps less than bus drivers, or not, I'm not sure about that.\n",
    "-the early hour needs to be bus drivers, because they 6-7 am already go, then there are parents who consistently 7-8 in the morning drive around the city, and the third place among taxi drivers, they also get up early, but sometimes and in the afternoon to start work therefore their average early hour should be more than those two groups.\n",
    "-the late hour at bus drivers, their working day ends to the 11-12 o'clock in the morning, followed by taxi drivers because many taxi drivers go in the evening, but sometimes they can return home earlier, and the third place of the parents, their working day ends for 5-7 hours."
   ]
  }
 ],
 "metadata": {
  "kernelspec": {
   "display_name": "geo_env",
   "language": "python",
   "name": "geo_env"
  },
  "language_info": {
   "codemirror_mode": {
    "name": "ipython",
    "version": 3
   },
   "file_extension": ".py",
   "mimetype": "text/x-python",
   "name": "python",
   "nbconvert_exporter": "python",
   "pygments_lexer": "ipython3",
   "version": "3.9.1"
  }
 },
 "nbformat": 4,
 "nbformat_minor": 4
}
